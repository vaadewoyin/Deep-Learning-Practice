{
  "nbformat": 4,
  "nbformat_minor": 0,
  "metadata": {
    "colab": {
      "provenance": []
    },
    "kernelspec": {
      "name": "python3",
      "display_name": "Python 3"
    },
    "language_info": {
      "name": "python"
    }
  },
  "cells": [
    {
      "cell_type": "markdown",
      "source": [
        "## **Linear Regression With Gradient Descent**"
      ],
      "metadata": {
        "id": "_WwX5icqAC30"
      }
    },
    {
      "cell_type": "markdown",
      "source": [
        "### Imports"
      ],
      "metadata": {
        "id": "K3syE8PeAxlq"
      }
    },
    {
      "cell_type": "code",
      "execution_count": 1,
      "metadata": {
        "id": "BxVfS489_s-7"
      },
      "outputs": [],
      "source": [
        "# Necessary import\n",
        "import numpy as np\n",
        "import matplotlib.pyplot as plt\n",
        "%matplotlib inline"
      ]
    },
    {
      "cell_type": "markdown",
      "source": [
        "### Prepare Dataset"
      ],
      "metadata": {
        "id": "mqeRb6_gNgr2"
      }
    },
    {
      "cell_type": "code",
      "source": [
        "#load california housing dataset\n",
        "from sklearn.datasets import fetch_california_housing\n",
        "housing = fetch_california_housing()\n",
        "\n",
        "#extract first 2 features\n",
        "X=housing['data'][:,:2]\n",
        "y=housing.target\n",
        "\n",
        "#shuffling & splitting\n",
        "shuffle_idx=np.arange(X.shape[0])\n",
        "shuffle_rng = np.random.RandomState(41)\n",
        "shuffle_rng.shuffle(shuffle_idx)\n",
        "X_train,X_test=X[shuffle_idx[:14500]],X[shuffle_idx[14500:]]\n",
        "y_train,y_test=y[shuffle_idx[:14500]],y[shuffle_idx[14500:]]\n",
        "\n",
        "#Standardization\n",
        "mu , sigma= X_train.mean(axis=0), X_train.std(axis=0)\n",
        "X_train= (X_train - mu) / sigma\n",
        "X_test= (X_test - mu) / sigma"
      ],
      "metadata": {
        "id": "ReEydqrDAwL1"
      },
      "execution_count": 2,
      "outputs": []
    },
    {
      "cell_type": "markdown",
      "source": [
        "### Implement Linear Regression"
      ],
      "metadata": {
        "id": "hhXWnhmGNnun"
      }
    },
    {
      "cell_type": "code",
      "source": [
        "# Implementation\n",
        "class LinearRegression():\n",
        "  def __init__(self, num_features):\n",
        "    self.num_features=num_features\n",
        "    self.weights=np.zeros([num_features, 1],dtype=float)\n",
        "    self.bias=np.zeros([1],dtype=float)\n",
        "\n",
        "  def forward(self ,X):\n",
        "    net_input= ( X @ self.weights) + self.bias\n",
        "    return net_input.reshape(-1)\n",
        "\n",
        "  def backward (self , X, yhat, y):\n",
        "    grad_loss_wrt_yhat = 2*(yhat - y)\n",
        "\n",
        "    grad_yhat_wrt_weights = X\n",
        "    grad_yhat_wrt_bias = 1.\n",
        "\n",
        "\n",
        "    grad_loss_weights =  (grad_yhat_wrt_weights.T@grad_loss_wrt_yhat.reshape(-1,1))/y.shape[0]\n",
        "    grad_loss_bias = np.sum(grad_yhat_wrt_bias*grad_loss_wrt_yhat) / y.shape[0]\n",
        "\n",
        "    # return negative gradient\n",
        "    return (-1)*grad_loss_weights, (-1)*grad_loss_bias\n"
      ],
      "metadata": {
        "id": "UntsIPR8GP5K"
      },
      "execution_count": 3,
      "outputs": []
    },
    {
      "cell_type": "code",
      "source": [
        "# Training and evaluation\n",
        "def loss(yhat, y):\n",
        "    return np.mean((yhat - y)**2)\n",
        "\n",
        "\n",
        "def train(model, x, y, num_epochs, learning_rate=0.01):\n",
        "    cost = []\n",
        "    for epoch in range(num_epochs):\n",
        "\n",
        "        # Compute outputs\n",
        "        yhat = model.forward(x)\n",
        "\n",
        "        # Compute gradients\n",
        "        negative_grad_w, negative_grad_b = model.backward(x, yhat, y)\n",
        "\n",
        "        # Update weights\n",
        "        model.weights += learning_rate * negative_grad_w\n",
        "        model.bias += learning_rate * negative_grad_b\n",
        "\n",
        "        # Logging\n",
        "        current_loss = loss(yhat, y)\n",
        "        print('Epoch: %03d' % (epoch+1), end=\"\")\n",
        "        print(' | MSE: %.5f' % current_loss)\n",
        "        cost.append(current_loss)\n",
        "\n",
        "    return cost"
      ],
      "metadata": {
        "id": "feWom2tcXqFd"
      },
      "execution_count": 4,
      "outputs": []
    },
    {
      "cell_type": "code",
      "source": [
        "model = LinearRegression(num_features=X_train.shape[1])\n",
        "cost = train(model,\n",
        "             X_train, y_train,\n",
        "             num_epochs=100,\n",
        "             learning_rate=0.05)"
      ],
      "metadata": {
        "colab": {
          "base_uri": "https://localhost:8080/"
        },
        "id": "Xi04WBN6YN3G",
        "outputId": "aa840f57-d08e-4415-cff9-597476163048"
      },
      "execution_count": 5,
      "outputs": [
        {
          "output_type": "stream",
          "name": "stdout",
          "text": [
            "Epoch: 001 | MSE: 5.61002\n",
            "Epoch: 002 | MSE: 4.67508\n",
            "Epoch: 003 | MSE: 3.91694\n",
            "Epoch: 004 | MSE: 3.30212\n",
            "Epoch: 005 | MSE: 2.80347\n",
            "Epoch: 006 | MSE: 2.39901\n",
            "Epoch: 007 | MSE: 2.07091\n",
            "Epoch: 008 | MSE: 1.80474\n",
            "Epoch: 009 | MSE: 1.58878\n",
            "Epoch: 010 | MSE: 1.41355\n",
            "Epoch: 011 | MSE: 1.27135\n",
            "Epoch: 012 | MSE: 1.15595\n",
            "Epoch: 013 | MSE: 1.06228\n",
            "Epoch: 014 | MSE: 0.98625\n",
            "Epoch: 015 | MSE: 0.92453\n",
            "Epoch: 016 | MSE: 0.87442\n",
            "Epoch: 017 | MSE: 0.83373\n",
            "Epoch: 018 | MSE: 0.80069\n",
            "Epoch: 019 | MSE: 0.77386\n",
            "Epoch: 020 | MSE: 0.75206\n",
            "Epoch: 021 | MSE: 0.73436\n",
            "Epoch: 022 | MSE: 0.71998\n",
            "Epoch: 023 | MSE: 0.70829\n",
            "Epoch: 024 | MSE: 0.69880\n",
            "Epoch: 025 | MSE: 0.69108\n",
            "Epoch: 026 | MSE: 0.68481\n",
            "Epoch: 027 | MSE: 0.67971\n",
            "Epoch: 028 | MSE: 0.67557\n",
            "Epoch: 029 | MSE: 0.67220\n",
            "Epoch: 030 | MSE: 0.66946\n",
            "Epoch: 031 | MSE: 0.66724\n",
            "Epoch: 032 | MSE: 0.66542\n",
            "Epoch: 033 | MSE: 0.66395\n",
            "Epoch: 034 | MSE: 0.66275\n",
            "Epoch: 035 | MSE: 0.66178\n",
            "Epoch: 036 | MSE: 0.66098\n",
            "Epoch: 037 | MSE: 0.66034\n",
            "Epoch: 038 | MSE: 0.65981\n",
            "Epoch: 039 | MSE: 0.65939\n",
            "Epoch: 040 | MSE: 0.65904\n",
            "Epoch: 041 | MSE: 0.65875\n",
            "Epoch: 042 | MSE: 0.65852\n",
            "Epoch: 043 | MSE: 0.65834\n",
            "Epoch: 044 | MSE: 0.65818\n",
            "Epoch: 045 | MSE: 0.65806\n",
            "Epoch: 046 | MSE: 0.65796\n",
            "Epoch: 047 | MSE: 0.65787\n",
            "Epoch: 048 | MSE: 0.65781\n",
            "Epoch: 049 | MSE: 0.65775\n",
            "Epoch: 050 | MSE: 0.65771\n",
            "Epoch: 051 | MSE: 0.65767\n",
            "Epoch: 052 | MSE: 0.65764\n",
            "Epoch: 053 | MSE: 0.65762\n",
            "Epoch: 054 | MSE: 0.65760\n",
            "Epoch: 055 | MSE: 0.65758\n",
            "Epoch: 056 | MSE: 0.65757\n",
            "Epoch: 057 | MSE: 0.65756\n",
            "Epoch: 058 | MSE: 0.65755\n",
            "Epoch: 059 | MSE: 0.65754\n",
            "Epoch: 060 | MSE: 0.65753\n",
            "Epoch: 061 | MSE: 0.65753\n",
            "Epoch: 062 | MSE: 0.65753\n",
            "Epoch: 063 | MSE: 0.65752\n",
            "Epoch: 064 | MSE: 0.65752\n",
            "Epoch: 065 | MSE: 0.65752\n",
            "Epoch: 066 | MSE: 0.65752\n",
            "Epoch: 067 | MSE: 0.65751\n",
            "Epoch: 068 | MSE: 0.65751\n",
            "Epoch: 069 | MSE: 0.65751\n",
            "Epoch: 070 | MSE: 0.65751\n",
            "Epoch: 071 | MSE: 0.65751\n",
            "Epoch: 072 | MSE: 0.65751\n",
            "Epoch: 073 | MSE: 0.65751\n",
            "Epoch: 074 | MSE: 0.65751\n",
            "Epoch: 075 | MSE: 0.65751\n",
            "Epoch: 076 | MSE: 0.65751\n",
            "Epoch: 077 | MSE: 0.65751\n",
            "Epoch: 078 | MSE: 0.65751\n",
            "Epoch: 079 | MSE: 0.65751\n",
            "Epoch: 080 | MSE: 0.65751\n",
            "Epoch: 081 | MSE: 0.65751\n",
            "Epoch: 082 | MSE: 0.65751\n",
            "Epoch: 083 | MSE: 0.65751\n",
            "Epoch: 084 | MSE: 0.65751\n",
            "Epoch: 085 | MSE: 0.65751\n",
            "Epoch: 086 | MSE: 0.65751\n",
            "Epoch: 087 | MSE: 0.65751\n",
            "Epoch: 088 | MSE: 0.65751\n",
            "Epoch: 089 | MSE: 0.65751\n",
            "Epoch: 090 | MSE: 0.65751\n",
            "Epoch: 091 | MSE: 0.65751\n",
            "Epoch: 092 | MSE: 0.65751\n",
            "Epoch: 093 | MSE: 0.65751\n",
            "Epoch: 094 | MSE: 0.65751\n",
            "Epoch: 095 | MSE: 0.65751\n",
            "Epoch: 096 | MSE: 0.65751\n",
            "Epoch: 097 | MSE: 0.65751\n",
            "Epoch: 098 | MSE: 0.65751\n",
            "Epoch: 099 | MSE: 0.65751\n",
            "Epoch: 100 | MSE: 0.65751\n"
          ]
        }
      ]
    },
    {
      "cell_type": "code",
      "source": [
        "# plot\n",
        "plt.plot(range(len(cost)), cost)\n",
        "plt.ylabel('Mean Squared Error')\n",
        "plt.xlabel('Epoch')\n",
        "plt.show()"
      ],
      "metadata": {
        "colab": {
          "base_uri": "https://localhost:8080/",
          "height": 449
        },
        "id": "b7eHdhhKYQfU",
        "outputId": "171a5bc8-5f6f-4d47-8636-bb6b83f3af54"
      },
      "execution_count": 6,
      "outputs": [
        {
          "output_type": "display_data",
          "data": {
            "text/plain": [
              "<Figure size 640x480 with 1 Axes>"
            ],
            "image/png": "[encoded data removed]"
          },
          "metadata": {}
        }
      ]
    }
  ]
}