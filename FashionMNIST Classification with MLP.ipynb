{
  "cells": [
    {
      "cell_type": "code",
      "execution_count": null,
      "metadata": {
        "id": "N5498oTpEJJp"
      },
      "outputs": [],
      "source": [
        "# Imports\n",
        "import torch\n",
        "import time\n",
        "import numpy as np\n",
        "import torch.nn.functional as F\n",
        "from torch.utils.data import DataLoader , random_split\n",
        "from torchvision import datasets\n",
        "from torchvision import transforms\n",
        "import matplotlib.pyplot as plt\n",
        "%matplotlib inline"
      ]
    },
    {
      "cell_type": "code",
      "execution_count": null,
      "metadata": {
        "id": "6T-rLqpqvqyx",
        "colab": {
          "base_uri": "https://localhost:8080/"
        },
        "outputId": "d6798124-9c6c-44a4-848c-3398e7364ada"
      },
      "outputs": [
        {
          "output_type": "stream",
          "name": "stdout",
          "text": [
            "Downloading http://fashion-mnist.s3-website.eu-central-1.amazonaws.com/train-images-idx3-ubyte.gz\n",
            "Downloading http://fashion-mnist.s3-website.eu-central-1.amazonaws.com/train-images-idx3-ubyte.gz to data/FashionMNIST/raw/train-images-idx3-ubyte.gz\n"
          ]
        },
        {
          "output_type": "stream",
          "name": "stderr",
          "text": [
            "100%|██████████| 26421880/26421880 [00:01<00:00, 13795603.93it/s]\n"
          ]
        },
        {
          "output_type": "stream",
          "name": "stdout",
          "text": [
            "Extracting data/FashionMNIST/raw/train-images-idx3-ubyte.gz to data/FashionMNIST/raw\n",
            "\n",
            "Downloading http://fashion-mnist.s3-website.eu-central-1.amazonaws.com/train-labels-idx1-ubyte.gz\n",
            "Downloading http://fashion-mnist.s3-website.eu-central-1.amazonaws.com/train-labels-idx1-ubyte.gz to data/FashionMNIST/raw/train-labels-idx1-ubyte.gz\n"
          ]
        },
        {
          "output_type": "stream",
          "name": "stderr",
          "text": [
            "100%|██████████| 29515/29515 [00:00<00:00, 230723.85it/s]\n"
          ]
        },
        {
          "output_type": "stream",
          "name": "stdout",
          "text": [
            "Extracting data/FashionMNIST/raw/train-labels-idx1-ubyte.gz to data/FashionMNIST/raw\n",
            "\n",
            "Downloading http://fashion-mnist.s3-website.eu-central-1.amazonaws.com/t10k-images-idx3-ubyte.gz\n",
            "Downloading http://fashion-mnist.s3-website.eu-central-1.amazonaws.com/t10k-images-idx3-ubyte.gz to data/FashionMNIST/raw/t10k-images-idx3-ubyte.gz\n"
          ]
        },
        {
          "output_type": "stream",
          "name": "stderr",
          "text": [
            "100%|██████████| 4422102/4422102 [00:01<00:00, 4236220.73it/s]\n"
          ]
        },
        {
          "output_type": "stream",
          "name": "stdout",
          "text": [
            "Extracting data/FashionMNIST/raw/t10k-images-idx3-ubyte.gz to data/FashionMNIST/raw\n",
            "\n",
            "Downloading http://fashion-mnist.s3-website.eu-central-1.amazonaws.com/t10k-labels-idx1-ubyte.gz\n",
            "Downloading http://fashion-mnist.s3-website.eu-central-1.amazonaws.com/t10k-labels-idx1-ubyte.gz to data/FashionMNIST/raw/t10k-labels-idx1-ubyte.gz\n"
          ]
        },
        {
          "output_type": "stream",
          "name": "stderr",
          "text": [
            "100%|██████████| 5148/5148 [00:00<00:00, 16803328.40it/s]\n"
          ]
        },
        {
          "output_type": "stream",
          "name": "stdout",
          "text": [
            "Extracting data/FashionMNIST/raw/t10k-labels-idx1-ubyte.gz to data/FashionMNIST/raw\n",
            "\n"
          ]
        }
      ],
      "source": [
        "# Download FashionMnist Dataset\n",
        "train_dataset = datasets.FashionMNIST(root='data',\n",
        "                                      download=True,\n",
        "                                      train=True,\n",
        "                                      transform=transforms.ToTensor())\n",
        "\n",
        "test_dataset = datasets.FashionMNIST(root='data',\n",
        "                                      train=False,\n",
        "                                      transform=transforms.ToTensor())"
      ]
    },
    {
      "cell_type": "code",
      "execution_count": null,
      "metadata": {
        "id": "GY5uf8xOwcCa"
      },
      "outputs": [],
      "source": [
        "# Get Validation set\n",
        "generator1 = torch.Generator().manual_seed(42)    # for reproducible results\n",
        "validation_size= int(0.1* (len(train_dataset)))\n",
        "train_size = int(len(train_dataset) - validation_size)\n",
        "train_dataset, valid_dataset = random_split(train_dataset, [train_size, validation_size], generator=generator1)"
      ]
    },
    {
      "cell_type": "code",
      "execution_count": null,
      "metadata": {
        "colab": {
          "base_uri": "https://localhost:8080/"
        },
        "id": "UumgfbuRzR6q",
        "outputId": "fe01e2d1-0456-40f6-e838-de16bf60f06a"
      },
      "outputs": [
        {
          "output_type": "execute_result",
          "data": {
            "text/plain": [
              "<torch._C.Generator at 0x7dc3496b1630>"
            ]
          },
          "metadata": {},
          "execution_count": 4
        }
      ],
      "source": [
        "# Settings\n",
        "Batch_size = 256\n",
        "Seed = 21\n",
        "num_epochs = 50\n",
        "device = torch.device('cuda' if torch.cuda.is_available() else 'cpu')\n",
        "\n",
        "# For general reproducibility\n",
        "torch.manual_seed(Seed)\n",
        "#torch.use_deterministic_algorithms(True)\n"
      ]
    },
    {
      "cell_type": "code",
      "execution_count": null,
      "metadata": {
        "id": "1Xq-NvAoxXyK"
      },
      "outputs": [],
      "source": [
        "# Load datasets into Dataloader for iterating over the datasets\n",
        "train_loader = DataLoader(train_dataset, batch_size = Batch_size, shuffle=True, drop_last=True,)\n",
        "valid_loader = DataLoader(valid_dataset, batch_size = Batch_size, shuffle=False)\n",
        "test_loader = DataLoader(test_dataset, batch_size = Batch_size, shuffle=False)\n"
      ]
    },
    {
      "cell_type": "code",
      "execution_count": null,
      "metadata": {
        "colab": {
          "base_uri": "https://localhost:8080/"
        },
        "id": "Ow2mrIMm1YR0",
        "outputId": "82eaaaf4-2456-452a-e567-7cf880c8eeb0"
      },
      "outputs": [
        {
          "output_type": "stream",
          "name": "stdout",
          "text": [
            "Image dimension - torch.Size([256, 1, 28, 28])\n",
            "Label dimension - torch.Size([256])\n",
            "Class labels of 10 examples - tensor([1, 3, 0, 8, 6, 3, 7, 1, 3, 0])\n"
          ]
        }
      ],
      "source": [
        "# Check dataset\n",
        "for features, label in train_loader:\n",
        "  print(f'Image dimension - {features.shape}')\n",
        "  print(f'Label dimension - {label.shape}')\n",
        "  print(f'Class labels of 10 examples - {label[:10]}')\n",
        "  break"
      ]
    },
    {
      "cell_type": "code",
      "execution_count": null,
      "metadata": {
        "colab": {
          "base_uri": "https://localhost:8080/",
          "height": 92
        },
        "id": "YF5sgvY01xkS",
        "outputId": "8b177a8a-cff0-4dcc-c772-c71a0a118605"
      },
      "outputs": [
        {
          "output_type": "display_data",
          "data": {
            "text/plain": [
              "<Figure size 600x100 with 4 Axes>"
            ],
            "image/png": "[encoded data removed]"
          },
          "metadata": {}
        }
      ],
      "source": [
        "# Display some images\n",
        "fig, ax = plt.subplots(1, 4, figsize = (6, 1))\n",
        "for idx, image in enumerate(features[:4]):\n",
        "    ax[idx].imshow((image.reshape(28,28)),cmap='binary')"
      ]
    },
    {
      "cell_type": "code",
      "execution_count": null,
      "metadata": {
        "id": "oCkjdnV_DnSl"
      },
      "outputs": [],
      "source": [
        "# Model\n",
        "class MultilayerPerceptron(torch.nn.Module):\n",
        "  def __init__(self, num_features, num_classes, num_hidden_1, num_hidden_2):\n",
        "    super().__init__()\n",
        "\n",
        "    self.network= torch.nn.Sequential(\n",
        "        # first hidden layer\n",
        "        torch.nn.Flatten(),\n",
        "        torch.nn.Linear(num_features , num_hidden_1,bias=False),\n",
        "        torch.nn.BatchNorm1d(num_hidden_1),\n",
        "        torch.nn.ReLU(),\n",
        "        torch.nn.Dropout(0.6),\n",
        "\n",
        "        # second hidden layer\n",
        "        torch.nn.Linear(num_hidden_1, num_hidden_2,bias=False),\n",
        "        torch.nn.BatchNorm1d(num_hidden_2),\n",
        "        torch.nn.ReLU(),\n",
        "        torch.nn.Dropout(0.6),\n",
        "\n",
        "        # output layer\n",
        "        torch.nn.Linear(num_hidden_2, num_classes)\n",
        "        )\n",
        "\n",
        "\n",
        "  def forward(self, x):\n",
        "    logits = self.network(x)\n",
        "    return logits"
      ]
    },
    {
      "cell_type": "code",
      "execution_count": null,
      "metadata": {
        "id": "gvtmYPBH1oEM"
      },
      "outputs": [],
      "source": [
        "# Initialise model\n",
        "model= MultilayerPerceptron( num_features = 28*28, num_classes = 10, num_hidden_1 =500, num_hidden_2 = 400)\n",
        "model = model.to(device)\n",
        "\n",
        "optimizer = torch.optim.SGD(model.parameters(), lr=0.1, momentum=0.9, weight_decay=0.01)\n",
        "\n",
        "scheduler = torch.optim.lr_scheduler.ReduceLROnPlateau(optimizer,\n",
        "                                                       factor=0.1,\n",
        "                                                       mode='min',\n",
        "                                                       verbose=True)"
      ]
    },
    {
      "cell_type": "code",
      "execution_count": null,
      "metadata": {
        "id": "gsPopShj2sQC"
      },
      "outputs": [],
      "source": [
        "# Define accuracy function\n",
        "def compute_accuracy(model, data_loader):\n",
        "    correct, num_examples = 0, 0\n",
        "    for features, labels in data_loader:\n",
        "        features = features.to(device)\n",
        "        labels = labels.to(device)\n",
        "        logits = model(features)\n",
        "        predicted_labels = torch.argmax(logits, dim=1)\n",
        "        correct += (predicted_labels == labels).sum().item()\n",
        "        num_examples += labels.size(0)\n",
        "    return (correct / num_examples) * 100\n"
      ]
    },
    {
      "cell_type": "code",
      "execution_count": null,
      "metadata": {
        "colab": {
          "base_uri": "https://localhost:8080/"
        },
        "id": "Dx9OWHSt40ef",
        "outputId": "7455c9b2-c08f-4c5a-cb12-30f15a50fe77"
      },
      "outputs": [
        {
          "output_type": "stream",
          "name": "stdout",
          "text": [
            "Epoch : 001/050 | Batch 000/210 | Loss : 2.541\n",
            "Epoch : 001/050 | Batch 050/210 | Loss : 0.604\n",
            "Epoch : 001/050 | Batch 100/210 | Loss : 0.662\n",
            "Epoch : 001/050 | Batch 150/210 | Loss : 0.545\n",
            "Epoch : 001/050 | Batch 200/210 | Loss : 0.563\n",
            "Epoch : 001/050 | Train: 82.16% | Validation: 81.80%\n",
            "Time elapsed: 0.41 min\n",
            "Epoch : 002/050 | Batch 000/210 | Loss : 0.578\n",
            "Epoch : 002/050 | Batch 050/210 | Loss : 0.602\n",
            "Epoch : 002/050 | Batch 100/210 | Loss : 0.611\n",
            "Epoch : 002/050 | Batch 150/210 | Loss : 0.586\n",
            "Epoch : 002/050 | Batch 200/210 | Loss : 0.581\n",
            "Epoch : 002/050 | Train: 80.31% | Validation: 79.87%\n",
            "Time elapsed: 0.77 min\n",
            "Epoch : 003/050 | Batch 000/210 | Loss : 0.575\n",
            "Epoch : 003/050 | Batch 050/210 | Loss : 0.659\n",
            "Epoch : 003/050 | Batch 100/210 | Loss : 0.573\n",
            "Epoch : 003/050 | Batch 150/210 | Loss : 0.640\n",
            "Epoch : 003/050 | Batch 200/210 | Loss : 0.616\n",
            "Epoch : 003/050 | Train: 80.75% | Validation: 80.33%\n",
            "Time elapsed: 1.08 min\n",
            "Epoch : 004/050 | Batch 000/210 | Loss : 0.640\n",
            "Epoch : 004/050 | Batch 050/210 | Loss : 0.622\n",
            "Epoch : 004/050 | Batch 100/210 | Loss : 0.669\n",
            "Epoch : 004/050 | Batch 150/210 | Loss : 0.676\n",
            "Epoch : 004/050 | Batch 200/210 | Loss : 0.612\n",
            "Epoch : 004/050 | Train: 80.70% | Validation: 80.33%\n",
            "Time elapsed: 1.39 min\n",
            "Epoch : 005/050 | Batch 000/210 | Loss : 0.616\n",
            "Epoch : 005/050 | Batch 050/210 | Loss : 0.707\n",
            "Epoch : 005/050 | Batch 100/210 | Loss : 0.666\n",
            "Epoch : 005/050 | Batch 150/210 | Loss : 0.693\n",
            "Epoch : 005/050 | Batch 200/210 | Loss : 0.630\n",
            "Epoch : 005/050 | Train: 82.27% | Validation: 81.87%\n",
            "Time elapsed: 1.71 min\n",
            "Epoch : 006/050 | Batch 000/210 | Loss : 0.652\n",
            "Epoch : 006/050 | Batch 050/210 | Loss : 0.626\n",
            "Epoch : 006/050 | Batch 100/210 | Loss : 0.708\n",
            "Epoch : 006/050 | Batch 150/210 | Loss : 0.696\n",
            "Epoch : 006/050 | Batch 200/210 | Loss : 0.680\n",
            "Epoch : 006/050 | Train: 81.86% | Validation: 81.35%\n",
            "Time elapsed: 2.02 min\n",
            "Epoch : 007/050 | Batch 000/210 | Loss : 0.617\n",
            "Epoch : 007/050 | Batch 050/210 | Loss : 0.701\n",
            "Epoch : 007/050 | Batch 100/210 | Loss : 0.712\n",
            "Epoch : 007/050 | Batch 150/210 | Loss : 0.706\n",
            "Epoch : 007/050 | Batch 200/210 | Loss : 0.595\n",
            "Epoch : 007/050 | Train: 82.14% | Validation: 81.65%\n",
            "Time elapsed: 2.33 min\n",
            "Epoch : 008/050 | Batch 000/210 | Loss : 0.631\n",
            "Epoch : 008/050 | Batch 050/210 | Loss : 0.715\n",
            "Epoch : 008/050 | Batch 100/210 | Loss : 0.738\n",
            "Epoch : 008/050 | Batch 150/210 | Loss : 0.627\n",
            "Epoch : 008/050 | Batch 200/210 | Loss : 0.700\n",
            "Epoch : 008/050 | Train: 79.48% | Validation: 78.82%\n",
            "Time elapsed: 2.64 min\n",
            "Epoch : 009/050 | Batch 000/210 | Loss : 0.655\n",
            "Epoch : 009/050 | Batch 050/210 | Loss : 0.697\n",
            "Epoch : 009/050 | Batch 100/210 | Loss : 0.774\n",
            "Epoch : 009/050 | Batch 150/210 | Loss : 0.857\n",
            "Epoch : 009/050 | Batch 200/210 | Loss : 0.653\n",
            "Epoch : 009/050 | Train: 81.96% | Validation: 81.58%\n",
            "Time elapsed: 2.95 min\n",
            "Epoch : 010/050 | Batch 000/210 | Loss : 0.695\n",
            "Epoch : 010/050 | Batch 050/210 | Loss : 0.729\n",
            "Epoch : 010/050 | Batch 100/210 | Loss : 0.727\n",
            "Epoch : 010/050 | Batch 150/210 | Loss : 0.746\n",
            "Epoch : 010/050 | Batch 200/210 | Loss : 0.756\n",
            "Epoch : 010/050 | Train: 81.27% | Validation: 81.08%\n",
            "Time elapsed: 3.27 min\n",
            "Epoch : 011/050 | Batch 000/210 | Loss : 0.742\n",
            "Epoch : 011/050 | Batch 050/210 | Loss : 0.729\n",
            "Epoch : 011/050 | Batch 100/210 | Loss : 0.718\n",
            "Epoch : 011/050 | Batch 150/210 | Loss : 0.703\n",
            "Epoch : 011/050 | Batch 200/210 | Loss : 0.765\n",
            "Epoch : 011/050 | Train: 82.10% | Validation: 81.70%\n",
            "Time elapsed: 3.58 min\n",
            "Epoch : 012/050 | Batch 000/210 | Loss : 0.661\n",
            "Epoch : 012/050 | Batch 050/210 | Loss : 0.727\n",
            "Epoch : 012/050 | Batch 100/210 | Loss : 0.722\n",
            "Epoch : 012/050 | Batch 150/210 | Loss : 0.837\n",
            "Epoch : 012/050 | Batch 200/210 | Loss : 0.758\n",
            "Epoch : 012/050 | Train: 79.23% | Validation: 77.58%\n",
            "Time elapsed: 3.89 min\n",
            "Epoch : 013/050 | Batch 000/210 | Loss : 0.692\n",
            "Epoch : 013/050 | Batch 050/210 | Loss : 0.758\n",
            "Epoch : 013/050 | Batch 100/210 | Loss : 0.711\n",
            "Epoch : 013/050 | Batch 150/210 | Loss : 0.749\n",
            "Epoch : 013/050 | Batch 200/210 | Loss : 0.851\n",
            "Epoch : 013/050 | Train: 80.59% | Validation: 79.88%\n",
            "Time elapsed: 4.20 min\n",
            "Epoch 00013: reducing learning rate of group 0 to 1.0000e-02.\n",
            "Epoch : 014/050 | Batch 000/210 | Loss : 0.840\n",
            "Epoch : 014/050 | Batch 050/210 | Loss : 0.715\n",
            "Epoch : 014/050 | Batch 100/210 | Loss : 0.619\n",
            "Epoch : 014/050 | Batch 150/210 | Loss : 0.661\n",
            "Epoch : 014/050 | Batch 200/210 | Loss : 0.604\n",
            "Epoch : 014/050 | Train: 85.01% | Validation: 84.35%\n",
            "Time elapsed: 4.51 min\n",
            "Epoch : 015/050 | Batch 000/210 | Loss : 0.711\n",
            "Epoch : 015/050 | Batch 050/210 | Loss : 0.618\n",
            "Epoch : 015/050 | Batch 100/210 | Loss : 0.646\n",
            "Epoch : 015/050 | Batch 150/210 | Loss : 0.616\n",
            "Epoch : 015/050 | Batch 200/210 | Loss : 0.538\n",
            "Epoch : 015/050 | Train: 84.67% | Validation: 84.23%\n",
            "Time elapsed: 4.81 min\n",
            "Epoch : 016/050 | Batch 000/210 | Loss : 0.650\n",
            "Epoch : 016/050 | Batch 050/210 | Loss : 0.602\n",
            "Epoch : 016/050 | Batch 100/210 | Loss : 0.567\n",
            "Epoch : 016/050 | Batch 150/210 | Loss : 0.621\n",
            "Epoch : 016/050 | Batch 200/210 | Loss : 0.546\n",
            "Epoch : 016/050 | Train: 85.27% | Validation: 84.77%\n",
            "Time elapsed: 5.12 min\n",
            "Epoch : 017/050 | Batch 000/210 | Loss : 0.581\n",
            "Epoch : 017/050 | Batch 050/210 | Loss : 0.634\n",
            "Epoch : 017/050 | Batch 100/210 | Loss : 0.653\n",
            "Epoch : 017/050 | Batch 150/210 | Loss : 0.512\n",
            "Epoch : 017/050 | Batch 200/210 | Loss : 0.623\n",
            "Epoch : 017/050 | Train: 85.48% | Validation: 84.98%\n",
            "Time elapsed: 5.42 min\n",
            "Epoch : 018/050 | Batch 000/210 | Loss : 0.658\n",
            "Epoch : 018/050 | Batch 050/210 | Loss : 0.598\n",
            "Epoch : 018/050 | Batch 100/210 | Loss : 0.569\n",
            "Epoch : 018/050 | Batch 150/210 | Loss : 0.707\n",
            "Epoch : 018/050 | Batch 200/210 | Loss : 0.635\n",
            "Epoch : 018/050 | Train: 85.40% | Validation: 84.68%\n",
            "Time elapsed: 5.73 min\n",
            "Epoch : 019/050 | Batch 000/210 | Loss : 0.647\n",
            "Epoch : 019/050 | Batch 050/210 | Loss : 0.590\n",
            "Epoch : 019/050 | Batch 100/210 | Loss : 0.689\n",
            "Epoch : 019/050 | Batch 150/210 | Loss : 0.596\n",
            "Epoch : 019/050 | Batch 200/210 | Loss : 0.595\n",
            "Epoch : 019/050 | Train: 85.50% | Validation: 84.10%\n",
            "Time elapsed: 6.03 min\n",
            "Epoch : 020/050 | Batch 000/210 | Loss : 0.652\n",
            "Epoch : 020/050 | Batch 050/210 | Loss : 0.649\n",
            "Epoch : 020/050 | Batch 100/210 | Loss : 0.639\n",
            "Epoch : 020/050 | Batch 150/210 | Loss : 0.615\n",
            "Epoch : 020/050 | Batch 200/210 | Loss : 0.640\n",
            "Epoch : 020/050 | Train: 84.74% | Validation: 84.27%\n",
            "Time elapsed: 6.34 min\n",
            "Epoch : 021/050 | Batch 000/210 | Loss : 0.624\n",
            "Epoch : 021/050 | Batch 050/210 | Loss : 0.616\n",
            "Epoch : 021/050 | Batch 100/210 | Loss : 0.672\n",
            "Epoch : 021/050 | Batch 150/210 | Loss : 0.657\n",
            "Epoch : 021/050 | Batch 200/210 | Loss : 0.578\n",
            "Epoch : 021/050 | Train: 85.52% | Validation: 84.70%\n",
            "Time elapsed: 6.65 min\n",
            "Epoch : 022/050 | Batch 000/210 | Loss : 0.575\n",
            "Epoch : 022/050 | Batch 050/210 | Loss : 0.664\n",
            "Epoch : 022/050 | Batch 100/210 | Loss : 0.555\n",
            "Epoch : 022/050 | Batch 150/210 | Loss : 0.596\n",
            "Epoch : 022/050 | Batch 200/210 | Loss : 0.681\n",
            "Epoch : 022/050 | Train: 84.78% | Validation: 83.87%\n",
            "Time elapsed: 6.96 min\n",
            "Epoch : 023/050 | Batch 000/210 | Loss : 0.551\n",
            "Epoch : 023/050 | Batch 050/210 | Loss : 0.605\n",
            "Epoch : 023/050 | Batch 100/210 | Loss : 0.662\n",
            "Epoch : 023/050 | Batch 150/210 | Loss : 0.624\n",
            "Epoch : 023/050 | Batch 200/210 | Loss : 0.667\n",
            "Epoch : 023/050 | Train: 85.48% | Validation: 84.73%\n",
            "Time elapsed: 7.27 min\n",
            "Epoch : 024/050 | Batch 000/210 | Loss : 0.628\n",
            "Epoch : 024/050 | Batch 050/210 | Loss : 0.725\n",
            "Epoch : 024/050 | Batch 100/210 | Loss : 0.600\n",
            "Epoch : 024/050 | Batch 150/210 | Loss : 0.619\n",
            "Epoch : 024/050 | Batch 200/210 | Loss : 0.600\n",
            "Epoch : 024/050 | Train: 84.33% | Validation: 83.43%\n",
            "Time elapsed: 7.57 min\n",
            "Epoch : 025/050 | Batch 000/210 | Loss : 0.683\n",
            "Epoch : 025/050 | Batch 050/210 | Loss : 0.582\n",
            "Epoch : 025/050 | Batch 100/210 | Loss : 0.625\n",
            "Epoch : 025/050 | Batch 150/210 | Loss : 0.628\n",
            "Epoch : 025/050 | Batch 200/210 | Loss : 0.545\n",
            "Epoch : 025/050 | Train: 84.62% | Validation: 84.08%\n",
            "Time elapsed: 7.88 min\n",
            "Epoch : 026/050 | Batch 000/210 | Loss : 0.630\n",
            "Epoch : 026/050 | Batch 050/210 | Loss : 0.606\n",
            "Epoch : 026/050 | Batch 100/210 | Loss : 0.571\n",
            "Epoch : 026/050 | Batch 150/210 | Loss : 0.539\n",
            "Epoch : 026/050 | Batch 200/210 | Loss : 0.591\n",
            "Epoch : 026/050 | Train: 85.18% | Validation: 84.72%\n",
            "Time elapsed: 8.18 min\n",
            "Epoch : 027/050 | Batch 000/210 | Loss : 0.487\n",
            "Epoch : 027/050 | Batch 050/210 | Loss : 0.573\n",
            "Epoch : 027/050 | Batch 100/210 | Loss : 0.689\n",
            "Epoch : 027/050 | Batch 150/210 | Loss : 0.588\n",
            "Epoch : 027/050 | Batch 200/210 | Loss : 0.627\n",
            "Epoch : 027/050 | Train: 85.58% | Validation: 83.97%\n",
            "Time elapsed: 8.49 min\n",
            "Epoch : 028/050 | Batch 000/210 | Loss : 0.643\n",
            "Epoch : 028/050 | Batch 050/210 | Loss : 0.680\n",
            "Epoch : 028/050 | Batch 100/210 | Loss : 0.738\n",
            "Epoch : 028/050 | Batch 150/210 | Loss : 0.515\n",
            "Epoch : 028/050 | Batch 200/210 | Loss : 0.567\n",
            "Epoch : 028/050 | Train: 85.88% | Validation: 85.53%\n",
            "Time elapsed: 8.79 min\n",
            "Epoch : 029/050 | Batch 000/210 | Loss : 0.513\n",
            "Epoch : 029/050 | Batch 050/210 | Loss : 0.474\n",
            "Epoch : 029/050 | Batch 100/210 | Loss : 0.569\n",
            "Epoch : 029/050 | Batch 150/210 | Loss : 0.692\n",
            "Epoch : 029/050 | Batch 200/210 | Loss : 0.670\n",
            "Epoch : 029/050 | Train: 85.60% | Validation: 85.23%\n",
            "Time elapsed: 9.11 min\n",
            "Epoch : 030/050 | Batch 000/210 | Loss : 0.612\n",
            "Epoch : 030/050 | Batch 050/210 | Loss : 0.558\n",
            "Epoch : 030/050 | Batch 100/210 | Loss : 0.497\n",
            "Epoch : 030/050 | Batch 150/210 | Loss : 0.589\n",
            "Epoch : 030/050 | Batch 200/210 | Loss : 0.604\n",
            "Epoch : 030/050 | Train: 86.25% | Validation: 84.88%\n",
            "Time elapsed: 9.40 min\n",
            "Epoch : 031/050 | Batch 000/210 | Loss : 0.608\n",
            "Epoch : 031/050 | Batch 050/210 | Loss : 0.582\n",
            "Epoch : 031/050 | Batch 100/210 | Loss : 0.540\n",
            "Epoch : 031/050 | Batch 150/210 | Loss : 0.599\n",
            "Epoch : 031/050 | Batch 200/210 | Loss : 0.616\n",
            "Epoch : 031/050 | Train: 85.76% | Validation: 84.65%\n",
            "Time elapsed: 9.72 min\n",
            "Epoch : 032/050 | Batch 000/210 | Loss : 0.581\n",
            "Epoch : 032/050 | Batch 050/210 | Loss : 0.644\n",
            "Epoch : 032/050 | Batch 100/210 | Loss : 0.562\n",
            "Epoch : 032/050 | Batch 150/210 | Loss : 0.660\n",
            "Epoch : 032/050 | Batch 200/210 | Loss : 0.612\n",
            "Epoch : 032/050 | Train: 86.21% | Validation: 85.05%\n",
            "Time elapsed: 10.02 min\n",
            "Epoch : 033/050 | Batch 000/210 | Loss : 0.671\n",
            "Epoch : 033/050 | Batch 050/210 | Loss : 0.561\n",
            "Epoch : 033/050 | Batch 100/210 | Loss : 0.679\n",
            "Epoch : 033/050 | Batch 150/210 | Loss : 0.586\n",
            "Epoch : 033/050 | Batch 200/210 | Loss : 0.527\n",
            "Epoch : 033/050 | Train: 85.20% | Validation: 84.77%\n",
            "Time elapsed: 10.33 min\n",
            "Epoch : 034/050 | Batch 000/210 | Loss : 0.625\n",
            "Epoch : 034/050 | Batch 050/210 | Loss : 0.609\n",
            "Epoch : 034/050 | Batch 100/210 | Loss : 0.595\n",
            "Epoch : 034/050 | Batch 150/210 | Loss : 0.573\n",
            "Epoch : 034/050 | Batch 200/210 | Loss : 0.686\n",
            "Epoch : 034/050 | Train: 85.71% | Validation: 85.13%\n",
            "Time elapsed: 10.64 min\n",
            "Epoch : 035/050 | Batch 000/210 | Loss : 0.690\n",
            "Epoch : 035/050 | Batch 050/210 | Loss : 0.572\n",
            "Epoch : 035/050 | Batch 100/210 | Loss : 0.481\n",
            "Epoch : 035/050 | Batch 150/210 | Loss : 0.609\n",
            "Epoch : 035/050 | Batch 200/210 | Loss : 0.593\n",
            "Epoch : 035/050 | Train: 84.61% | Validation: 84.22%\n",
            "Time elapsed: 10.94 min\n",
            "Epoch : 036/050 | Batch 000/210 | Loss : 0.564\n",
            "Epoch : 036/050 | Batch 050/210 | Loss : 0.652\n",
            "Epoch : 036/050 | Batch 100/210 | Loss : 0.656\n",
            "Epoch : 036/050 | Batch 150/210 | Loss : 0.653\n",
            "Epoch : 036/050 | Batch 200/210 | Loss : 0.591\n",
            "Epoch : 036/050 | Train: 85.86% | Validation: 84.48%\n",
            "Time elapsed: 11.25 min\n",
            "Epoch : 037/050 | Batch 000/210 | Loss : 0.660\n",
            "Epoch : 037/050 | Batch 050/210 | Loss : 0.707\n",
            "Epoch : 037/050 | Batch 100/210 | Loss : 0.554\n",
            "Epoch : 037/050 | Batch 150/210 | Loss : 0.611\n",
            "Epoch : 037/050 | Batch 200/210 | Loss : 0.600\n",
            "Epoch : 037/050 | Train: 84.96% | Validation: 84.10%\n",
            "Time elapsed: 11.56 min\n",
            "Epoch : 038/050 | Batch 000/210 | Loss : 0.579\n",
            "Epoch : 038/050 | Batch 050/210 | Loss : 0.624\n",
            "Epoch : 038/050 | Batch 100/210 | Loss : 0.641\n",
            "Epoch : 038/050 | Batch 150/210 | Loss : 0.613\n",
            "Epoch : 038/050 | Batch 200/210 | Loss : 0.642\n",
            "Epoch : 038/050 | Train: 86.04% | Validation: 84.93%\n",
            "Time elapsed: 11.87 min\n",
            "Epoch : 039/050 | Batch 000/210 | Loss : 0.560\n",
            "Epoch : 039/050 | Batch 050/210 | Loss : 0.584\n",
            "Epoch : 039/050 | Batch 100/210 | Loss : 0.616\n",
            "Epoch : 039/050 | Batch 150/210 | Loss : 0.518\n",
            "Epoch : 039/050 | Batch 200/210 | Loss : 0.730\n",
            "Epoch : 039/050 | Train: 85.65% | Validation: 84.35%\n",
            "Time elapsed: 12.17 min\n",
            "Epoch : 040/050 | Batch 000/210 | Loss : 0.626\n",
            "Epoch : 040/050 | Batch 050/210 | Loss : 0.618\n",
            "Epoch : 040/050 | Batch 100/210 | Loss : 0.689\n",
            "Epoch : 040/050 | Batch 150/210 | Loss : 0.655\n",
            "Epoch : 040/050 | Batch 200/210 | Loss : 0.606\n",
            "Epoch : 040/050 | Train: 85.81% | Validation: 84.83%\n",
            "Time elapsed: 12.48 min\n",
            "Epoch : 041/050 | Batch 000/210 | Loss : 0.592\n",
            "Epoch : 041/050 | Batch 050/210 | Loss : 0.549\n",
            "Epoch : 041/050 | Batch 100/210 | Loss : 0.711\n",
            "Epoch : 041/050 | Batch 150/210 | Loss : 0.588\n",
            "Epoch : 041/050 | Batch 200/210 | Loss : 0.648\n",
            "Epoch : 041/050 | Train: 85.66% | Validation: 85.10%\n",
            "Time elapsed: 12.78 min\n",
            "Epoch : 042/050 | Batch 000/210 | Loss : 0.604\n",
            "Epoch : 042/050 | Batch 050/210 | Loss : 0.614\n",
            "Epoch : 042/050 | Batch 100/210 | Loss : 0.579\n",
            "Epoch : 042/050 | Batch 150/210 | Loss : 0.594\n",
            "Epoch : 042/050 | Batch 200/210 | Loss : 0.564\n",
            "Epoch : 042/050 | Train: 85.74% | Validation: 84.85%\n",
            "Time elapsed: 13.09 min\n",
            "Epoch 00042: reducing learning rate of group 0 to 1.0000e-03.\n",
            "Epoch : 043/050 | Batch 000/210 | Loss : 0.564\n",
            "Epoch : 043/050 | Batch 050/210 | Loss : 0.534\n",
            "Epoch : 043/050 | Batch 100/210 | Loss : 0.618\n",
            "Epoch : 043/050 | Batch 150/210 | Loss : 0.522\n",
            "Epoch : 043/050 | Batch 200/210 | Loss : 0.531\n",
            "Epoch : 043/050 | Train: 86.75% | Validation: 85.63%\n",
            "Time elapsed: 13.39 min\n",
            "Epoch : 044/050 | Batch 000/210 | Loss : 0.523\n",
            "Epoch : 044/050 | Batch 050/210 | Loss : 0.546\n",
            "Epoch : 044/050 | Batch 100/210 | Loss : 0.556\n",
            "Epoch : 044/050 | Batch 150/210 | Loss : 0.566\n",
            "Epoch : 044/050 | Batch 200/210 | Loss : 0.473\n",
            "Epoch : 044/050 | Train: 87.11% | Validation: 85.88%\n",
            "Time elapsed: 13.70 min\n",
            "Epoch : 045/050 | Batch 000/210 | Loss : 0.557\n",
            "Epoch : 045/050 | Batch 050/210 | Loss : 0.633\n",
            "Epoch : 045/050 | Batch 100/210 | Loss : 0.560\n",
            "Epoch : 045/050 | Batch 150/210 | Loss : 0.528\n",
            "Epoch : 045/050 | Batch 200/210 | Loss : 0.405\n",
            "Epoch : 045/050 | Train: 87.05% | Validation: 85.90%\n",
            "Time elapsed: 14.00 min\n",
            "Epoch : 046/050 | Batch 000/210 | Loss : 0.562\n",
            "Epoch : 046/050 | Batch 050/210 | Loss : 0.557\n",
            "Epoch : 046/050 | Batch 100/210 | Loss : 0.555\n",
            "Epoch : 046/050 | Batch 150/210 | Loss : 0.578\n",
            "Epoch : 046/050 | Batch 200/210 | Loss : 0.541\n",
            "Epoch : 046/050 | Train: 87.34% | Validation: 86.02%\n",
            "Time elapsed: 14.31 min\n",
            "Epoch : 047/050 | Batch 000/210 | Loss : 0.534\n",
            "Epoch : 047/050 | Batch 050/210 | Loss : 0.514\n",
            "Epoch : 047/050 | Batch 100/210 | Loss : 0.557\n",
            "Epoch : 047/050 | Batch 150/210 | Loss : 0.521\n",
            "Epoch : 047/050 | Batch 200/210 | Loss : 0.494\n",
            "Epoch : 047/050 | Train: 87.36% | Validation: 86.12%\n",
            "Time elapsed: 14.62 min\n",
            "Epoch : 048/050 | Batch 000/210 | Loss : 0.521\n",
            "Epoch : 048/050 | Batch 050/210 | Loss : 0.575\n",
            "Epoch : 048/050 | Batch 100/210 | Loss : 0.530\n",
            "Epoch : 048/050 | Batch 150/210 | Loss : 0.590\n",
            "Epoch : 048/050 | Batch 200/210 | Loss : 0.536\n",
            "Epoch : 048/050 | Train: 87.44% | Validation: 85.87%\n",
            "Time elapsed: 14.92 min\n",
            "Epoch : 049/050 | Batch 000/210 | Loss : 0.510\n",
            "Epoch : 049/050 | Batch 050/210 | Loss : 0.539\n",
            "Epoch : 049/050 | Batch 100/210 | Loss : 0.513\n",
            "Epoch : 049/050 | Batch 150/210 | Loss : 0.565\n",
            "Epoch : 049/050 | Batch 200/210 | Loss : 0.604\n",
            "Epoch : 049/050 | Train: 87.45% | Validation: 85.93%\n",
            "Time elapsed: 15.24 min\n",
            "Epoch : 050/050 | Batch 000/210 | Loss : 0.600\n",
            "Epoch : 050/050 | Batch 050/210 | Loss : 0.461\n",
            "Epoch : 050/050 | Batch 100/210 | Loss : 0.565\n",
            "Epoch : 050/050 | Batch 150/210 | Loss : 0.552\n",
            "Epoch : 050/050 | Batch 200/210 | Loss : 0.633\n",
            "Epoch : 050/050 | Train: 87.54% | Validation: 86.02%\n",
            "Time elapsed: 15.54 min\n",
            "Total Training Time: 15.54 min\n",
            "Test accuracy 85.42%\n"
          ]
        }
      ],
      "source": [
        "# Training the Model\n",
        "\n",
        "mini_batch_loss, train_acc_list, valid_acc_list = [], [], []\n",
        "\n",
        "start_time = time.time()\n",
        "for epoch in range(num_epochs):\n",
        "    model.train()  # set model in train mode\n",
        "    for batch_idx, (features, label) in enumerate(train_loader):\n",
        "\n",
        "        features = features.to(device)\n",
        "        label = label.to(device)\n",
        "\n",
        "        # Compute logits\n",
        "        logits = model(features)\n",
        "        # Compute loss\n",
        "        loss = F.cross_entropy(logits, label)\n",
        "        optimizer.zero_grad()\n",
        "        # Backprops\n",
        "        loss.backward()\n",
        "        # Update gradient\n",
        "        optimizer.step()\n",
        "\n",
        "        # Logging\n",
        "        mini_batch_loss.append(loss.item())\n",
        "        if batch_idx % 50 ==0 :\n",
        "           print(f'Epoch : {epoch + 1:03d}/{num_epochs:03d} | Batch {batch_idx:03d}/{len(train_loader)} | Loss : {loss.item():.3f}')\n",
        "\n",
        "    model.eval()\n",
        "    with torch.no_grad():  # save memory during inference\n",
        "        train_acc = compute_accuracy(model, train_loader)\n",
        "        valid_acc = compute_accuracy(model, valid_loader)\n",
        "        print(f'Epoch : {epoch+1:03d}/{num_epochs:03d} | Train: {train_acc :.2f}% | Validation: {valid_acc :.2f}%')\n",
        "        print(f'Time elapsed: {(((time.time() - start_time)/60)):.2f} min')\n",
        "        train_acc_list.append(train_acc)\n",
        "        valid_acc_list.append(valid_acc)\n",
        "\n",
        "    # lR scheduler\n",
        "    scheduler.step(mini_batch_loss[-1])\n",
        "\n",
        "total_time_elapsed = (time.time() - start_time)/60\n",
        "print(f'Total Training Time: {total_time_elapsed:.2f} min')\n",
        "\n",
        "test_acc = compute_accuracy(model, test_loader)\n",
        "print(f'Test accuracy {test_acc :.2f}%')"
      ]
    },
    {
      "cell_type": "code",
      "execution_count": null,
      "metadata": {
        "colab": {
          "base_uri": "https://localhost:8080/",
          "height": 243
        },
        "id": "xoXcE0PS-XWx",
        "outputId": "4c42f213-c638-433a-c75f-0156e7f898e9"
      },
      "outputs": [
        {
          "output_type": "display_data",
          "data": {
            "text/plain": [
              "<Figure size 640x480 with 1 Axes>"
            ],
            "image/png": "[encoded data removed]"
          },
          "metadata": {}
        }
      ],
      "source": [
        "# Get running average\n",
        "def running_average(data, window_size):\n",
        "    cumsum_vec = np.cumsum(np.insert(data, 0, 0))\n",
        "    return (cumsum_vec[window_size:] - cumsum_vec[:-window_size]) / window_size\n",
        "\n",
        "# Calculate the running average of minibatch loss\n",
        "window_size = 10\n",
        "avg_losses = running_average(mini_batch_loss, window_size)\n",
        "\n",
        "# Plotting\n",
        "plt.plot(mini_batch_loss, label='Mini batch losses')\n",
        "plt.plot(np.arange(window_size - 1, len(mini_batch_loss)), avg_losses, label='Running Average', color='red')\n",
        "plt.xlabel('Iterations')\n",
        "plt.ylabel('Loss')\n",
        "plt.legend()\n",
        "plt.show()"
      ]
    },
    {
      "cell_type": "code",
      "execution_count": null,
      "metadata": {
        "colab": {
          "base_uri": "https://localhost:8080/",
          "height": 247
        },
        "id": "x1ll7YxFLMII",
        "outputId": "7f3dcd88-d76b-49d3-9fad-aae7f0df56c3"
      },
      "outputs": [
        {
          "output_type": "display_data",
          "data": {
            "text/plain": [
              "<Figure size 640x480 with 1 Axes>"
            ],
            "image/png": "[encoded data removed]"
          },
          "metadata": {}
        }
      ],
      "source": [
        "# Plot of train and validation accuracies\n",
        "plt.plot(train_acc_list, label='Train')\n",
        "plt.plot(valid_acc_list, label='Valid')\n",
        "plt.xlabel('Epochs')\n",
        "plt.ylabel('Accuracy')\n",
        "plt.legend()\n",
        "plt.show()"
      ]
    }
  ],
  "metadata": {
    "colab": {
      "provenance": []
    },
    "kernelspec": {
      "display_name": "Python 3",
      "name": "python3"
    },
    "language_info": {
      "name": "python"
    }
  },
  "nbformat": 4,
  "nbformat_minor": 0
}